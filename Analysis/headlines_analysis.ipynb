{
 "cells": [
  {
   "cell_type": "code",
   "execution_count": 4,
   "metadata": {},
   "outputs": [],
   "source": [
    "# -*- coding: utf-8 -*-\n",
    "import json\n",
    "import re\n",
    "import jieba\n",
    "from collections import Counter\n",
    "\n",
    "class StatWords(object):\n",
    "    def statTopN(self,path, n):\n",
    "        file = open(path,'r')\n",
    "        wordDict = {}\n",
    "        content = file.read()\n",
    "        wordlist = re.split('[\\s\\ \\\\,\\;\\.\\!\\n]+', content)\n",
    "        for word in wordlist:\n",
    "            if word in wordDict:\n",
    "                    wordDict[word]=wordDict[word]+1\n",
    "            else:\n",
    "                    wordDict[word] = 1\n",
    "        count = Counter(wordDict)\n",
    "        print (json.dumps(count.most_common()[:n], ensure_ascii=False))\n",
    "                \n",
    "STOPWORDS = [u'的', u'地', u'得', u'而', u'了', u'在', u'是', u'我', u'有', u'和', \n",
    "u'就',  u'不', u'人', u'都', u'一', u'一个', u'上', u'也', u'很', u'到', u'说', u'要',\n",
    " u'去', u'你',  u'会', u'着', u'没有', u'看', u'好', u'自己', u'这']\n",
    "PUNCTUATIONS = [u'。', u'，', u'“', u'”', u'…', u'？', u'！', u'、', u'；', u'（', \n",
    "u'）',u'?',u'：']\n",
    "#黑名单\n",
    "f_in = open('F:\\\\MC\\\\headlines\\\\file.txt')\n",
    "f_out = open('file_out.txt', 'w')\n",
    "#f_in原文档，f_out分词后的文档\n",
    "try:\n",
    "    for l in f_in:\n",
    "        seg_list = jieba.cut(l)\n",
    "        # print \"/\".join(seg_list)\n",
    "        \n",
    "        for seg in seg_list:\n",
    "            if seg not in STOPWORDS and seg not in PUNCTUATIONS:\n",
    "                f_out.write(seg.encode('utf-8','strict') + \"\\n\")\n",
    "\n",
    "finally:\n",
    "    f_in.close()\n",
    "    f_out.close()\n",
    "\n",
    "if __name__ == '__main__':\n",
    "    s = StatWords()\n",
    "    s.statTopN(\"file_out.txt\",10)\n"
   ]
  },
  {
   "cell_type": "code",
   "execution_count": 5,
   "metadata": {},
   "outputs": [],
   "source": [
    "import pandas as pd\n",
    "import numpy as np\n",
    "heads = pd.read_csv('C:/Users/Administrator/Threebodies/headlines_Chinese.csv',encoding = \"gbk\")    #注意打开文件的/方向,编码方式为gbk，即中文"
   ]
  },
  {
   "cell_type": "code",
   "execution_count": 6,
   "metadata": {},
   "outputs": [],
   "source": [
    "heads_count=heads['headline'].value_counts()"
   ]
  },
  {
   "cell_type": "code",
   "execution_count": 7,
   "metadata": {
    "scrolled": true
   },
   "outputs": [
    {
     "data": {
      "text/plain": [
       "爱好者     872\n",
       "学生      798\n",
       "爱       640\n",
       "互联网     572\n",
       "产品      517\n",
       "狗       466\n",
       "工程师     459\n",
       "号       454\n",
       "喜欢      412\n",
       "公众      411\n",
       "做       393\n",
       "专业      368\n",
       "中       344\n",
       "小       323\n",
       "设计师     321\n",
       "与       312\n",
       "想       311\n",
       "生活      311\n",
       "知乎      299\n",
       "设计      285\n",
       "金融      283\n",
       "世界      279\n",
       "什么      277\n",
       "微信      274\n",
       "在读      269\n",
       "程序员     266\n",
       "经理      251\n",
       "学习      246\n",
       "不是      244\n",
       "游戏      244\n",
       "       ... \n",
       "胜发        1\n",
       "系小酱       1\n",
       "重启        1\n",
       "致志        1\n",
       "功勋        1\n",
       "张薄        1\n",
       "小白羊       1\n",
       "考古学       1\n",
       "行驶        1\n",
       "入境        1\n",
       "思源        1\n",
       "北境        1\n",
       "低年级       1\n",
       "代练        1\n",
       "那该        1\n",
       "贰         1\n",
       "安全工程      1\n",
       "保存        1\n",
       "远程        1\n",
       "既归处       1\n",
       "自会        1\n",
       "兴旺        1\n",
       "沙漠        1\n",
       "局新        1\n",
       "自我感觉      1\n",
       "少废话       1\n",
       "厚道        1\n",
       "保健品       1\n",
       "长江流域      1\n",
       "言多必失      1\n",
       "Name: headline, Length: 22730, dtype: int64"
      ]
     },
     "execution_count": 7,
     "metadata": {},
     "output_type": "execute_result"
    }
   ],
   "source": [
    "heads_count"
   ]
  },
  {
   "cell_type": "code",
   "execution_count": 21,
   "metadata": {},
   "outputs": [
    {
     "data": {
      "image/png": "[encoded data removed]",
      "text/plain": [
       "<matplotlib.figure.Figure at 0xb120438>"
      ]
     },
     "metadata": {},
     "output_type": "display_data"
    }
   ],
   "source": [
    "import matplotlib.pyplot as plt \n",
    "plt.rcParams['font.sans-serif']=['SimHei'] #用来正常显示中文标签\n",
    "heads_count[:20].plot(kind='barh')\n",
    "plt.ylabel('Tags')\n",
    "plt.xlabel('Number of users') \n",
    "plt.xlim(0,900)\n",
    "#plt.title('Tags with more than 100 users(sum=15,871)') \n",
    "#plt.savefig('locations distribution.png')\n",
    "plt.show()"
   ]
  },
  {
   "cell_type": "code",
   "execution_count": 23,
   "metadata": {
    "scrolled": true
   },
   "outputs": [
    {
     "data": {
      "image/png": "[encoded data removed]",
      "text/plain": [
       "<matplotlib.figure.Figure at 0xb19d320>"
      ]
     },
     "metadata": {},
     "output_type": "display_data"
    }
   ],
   "source": [
    "plt.rcParams['font.sans-serif']=['SimHei'] #用来正常显示中文标签\n",
    "heads_count[19:40].plot(kind='barh')\n",
    "plt.ylabel('Tags')\n",
    "plt.xlabel('Number of users') \n",
    "plt.xlim(0,900)\n",
    "plt.show()"
   ]
  },
  {
   "cell_type": "code",
   "execution_count": 24,
   "metadata": {},
   "outputs": [
    {
     "data": {
      "image/png": "[encoded data removed]",
      "text/plain": [
       "<matplotlib.figure.Figure at 0xac16a90>"
      ]
     },
     "metadata": {},
     "output_type": "display_data"
    }
   ],
   "source": [
    "plt.rcParams['font.sans-serif']=['SimHei'] #用来正常显示中文标签\n",
    "heads_count[39:60].plot(kind='barh')\n",
    "plt.ylabel('Tags')\n",
    "plt.xlabel('Number of users') \n",
    "plt.xlim(0,900)\n",
    "plt.show()"
   ]
  },
  {
   "cell_type": "code",
   "execution_count": null,
   "metadata": {},
   "outputs": [],
   "source": []
  }
 ],
 "metadata": {
  "kernelspec": {
   "display_name": "Python 3",
   "language": "python",
   "name": "python3"
  },
  "language_info": {
   "codemirror_mode": {
    "name": "ipython",
    "version": 3
   },
   "file_extension": ".py",
   "mimetype": "text/x-python",
   "name": "python",
   "nbconvert_exporter": "python",
   "pygments_lexer": "ipython3",
   "version": "3.7.0"
  }
 },
 "nbformat": 4,
 "nbformat_minor": 2
}
